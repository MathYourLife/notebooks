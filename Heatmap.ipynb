{
 "metadata": {
  "name": ""
 },
 "nbformat": 3,
 "nbformat_minor": 0,
 "worksheets": [
  {
   "cells": [
    {
     "cell_type": "code",
     "collapsed": false,
     "input": [
      "%pylab inline\n",
      "import pylab as pl\n",
      "import numpy as np"
     ],
     "language": "python",
     "metadata": {},
     "outputs": [],
     "prompt_number": ""
    },
    {
     "cell_type": "heading",
     "level": 1,
     "metadata": {},
     "source": [
      "Create a heatmap of a signal with some random noise"
     ]
    },
    {
     "cell_type": "code",
     "collapsed": false,
     "input": [
      "import time\n",
      "\n",
      "end_time = time.time() + 10    \n",
      "x_bins, y_bins = 50, 25\n",
      "heatmap = np.zeros((y_bins, x_bins))\n",
      "time_window = 2\n",
      "wave_period = 1\n",
      "\n",
      "class OutOfBounds(Exception):\n",
      "    pass\n",
      "\n",
      "def binnum(range_min, range_max, bins, value):\n",
      "    width = (range_max - range_min) / float(bins)\n",
      "    bin_num = int((value - range_min) / width)\n",
      "    if 0 <= bin_num < bins:\n",
      "        return bin_num\n",
      "    raise OutOfBounds\n",
      "\n",
      "def signal():\n",
      "    x = mod(time.time(), time_window)\n",
      "    y = 0.6 * np.sin((2*np.pi)/wave_period*x) + np.random.randn() * 0.2\n",
      "    return (x, y)\n",
      "    \n",
      "while time.time() < end_time:\n",
      "    x, y = signal()\n",
      "    \n",
      "    try:\n",
      "        x_bin = binnum(0, time_window, x_bins, x)\n",
      "        y_bin = binnum(-1, 1, y_bins, y)\n",
      "        \n",
      "        heatmap[y_bin, x_bin] += 1\n",
      "    except OutOfBounds:\n",
      "        pass\n",
      "    \n",
      "    time.sleep(0.001)\n",
      "\n",
      "pl.pcolor(heatmap, cmap=plt.cm.Blues)\n",
      "pl.colorbar()\n",
      "pl.show()\n"
     ],
     "language": "python",
     "metadata": {},
     "outputs": [],
     "prompt_number": ""
    },
    {
     "cell_type": "code",
     "collapsed": false,
     "input": [],
     "language": "python",
     "metadata": {},
     "outputs": []
    }
   ],
   "metadata": {}
  }
 ]
}