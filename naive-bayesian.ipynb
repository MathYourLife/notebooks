{
 "metadata": {
  "name": "",
  "signature": "sha256:09e42be6e4762212bd202fc72cf141d741548fbc1b3ff16d2a454a49de42f8e7"
 },
 "nbformat": 3,
 "nbformat_minor": 0,
 "worksheets": [
  {
   "cells": [
    {
     "cell_type": "code",
     "collapsed": false,
     "input": [
      "import pandas as pd"
     ],
     "language": "python",
     "metadata": {},
     "outputs": [
      {
       "output_type": "stream",
       "stream": "stderr",
       "text": [
        "/usr/local/lib/python3.4/dist-packages/pandas/io/excel.py:626: UserWarning: Installed openpyxl is not supported at this time. Use >=1.6.1 and <2.0.0.\n",
        "  .format(openpyxl_compat.start_ver, openpyxl_compat.stop_ver))\n"
       ]
      }
     ],
     "prompt_number": 2
    },
    {
     "cell_type": "code",
     "collapsed": false,
     "input": [
      "columns = [\"forecast\", \"play_golf\"]\n",
      "data = [\n",
      " (\"Sunny\",\"Y\"),\n",
      " (\"Sunny\",\"Y\"),\n",
      " (\"Sunny\",\"Y\"),\n",
      " (\"Sunny\",\"N\"),\n",
      " (\"Sunny\",\"N\"),\n",
      " (\"Overcast\",\"Y\"),\n",
      " (\"Overcast\",\"Y\"),\n",
      " (\"Overcast\",\"Y\"),\n",
      " (\"Overcast\",\"Y\"),\n",
      " (\"Rainy\",\"N\"),\n",
      " (\"Rainy\",\"N\"),\n",
      " (\"Rainy\",\"N\"),\n",
      " (\"Rainy\",\"Y\"),\n",
      " (\"Rainy\",\"Y\"),\n",
      "]\n",
      "\n",
      "df = pd.DataFrame(data, columns=columns)"
     ],
     "language": "python",
     "metadata": {},
     "outputs": [],
     "prompt_number": 41
    },
    {
     "cell_type": "code",
     "collapsed": false,
     "input": [
      "print(\"Tally of outcomes\\n\")\n",
      "ct = pd.crosstab(index=[df['forecast']], columns=[df['play_golf']])\n",
      "print(ct)"
     ],
     "language": "python",
     "metadata": {},
     "outputs": [
      {
       "output_type": "stream",
       "stream": "stdout",
       "text": [
        "Tally of outcomes\n",
        "\n",
        "play_golf  N  Y\n",
        "forecast       \n",
        "Overcast   0  4\n",
        "Rainy      3  2\n",
        "Sunny      2  3\n"
       ]
      }
     ],
     "prompt_number": 42
    },
    {
     "cell_type": "code",
     "collapsed": false,
     "input": [
      "print(\"Probability Distribution Table\\n\")\n",
      "pdt = ct / len(data)\n",
      "print(pdt)"
     ],
     "language": "python",
     "metadata": {},
     "outputs": [
      {
       "output_type": "stream",
       "stream": "stdout",
       "text": [
        "Probability Distribution Table\n",
        "\n",
        "play_golf         N         Y\n",
        "forecast                     \n",
        "Overcast   0.000000  0.285714\n",
        "Rainy      0.214286  0.142857\n",
        "Sunny      0.142857  0.214286\n"
       ]
      }
     ],
     "prompt_number": 43
    },
    {
     "cell_type": "code",
     "collapsed": false,
     "input": [
      "print(\"P(Sunny, N) = %g\" % pdt[\"N\"][\"Sunny\"])\n",
      "print(\"P(N) = %g\" % pdt[\"N\"].sum())\n",
      "print(\"P(Sunny) = %g\" % pdt.ix[\"Sunny\"].sum())"
     ],
     "language": "python",
     "metadata": {},
     "outputs": [
      {
       "output_type": "stream",
       "stream": "stdout",
       "text": [
        "P(Sunny, N) = 0.142857\n",
        "P(N) = 0.357143\n",
        "P(Sunny) = 0.357143\n"
       ]
      }
     ],
     "prompt_number": 44
    },
    {
     "cell_type": "markdown",
     "metadata": {},
     "source": [
      "## Bayes' Theorem\n",
      "\n",
      "$\\displaystyle P(A|B) = \\frac{P(B|A) * P(A)}{P(B)}$\n",
      "\n",
      "Find the chance of playing golf given that it is sunny\n",
      "\n",
      "$\\displaystyle P(Yes | Sunny) = \\frac{P(Sunny|Yes) * P(Yes)}{P(Sunny)}$"
     ]
    },
    {
     "cell_type": "code",
     "collapsed": false,
     "input": [
      "p_sy = len(df[(df['forecast'] == 'Sunny') & (df['play_golf'] == 'Y')]) / len(df[df['play_golf'] == 'Y'])\n",
      "p_y = len(df[df['play_golf'] == 'Y']) / len(df)\n",
      "p_s = len(df[df['forecast'] == 'Sunny']) / len(df)\n",
      "p_ys = p_sy * p_y / p_s\n",
      "print(\"P(Yes | Sunny) = %g\" % p_ys)"
     ],
     "language": "python",
     "metadata": {},
     "outputs": [
      {
       "output_type": "stream",
       "stream": "stdout",
       "text": [
        "P(Yes | Sunny) = 0.6\n"
       ]
      }
     ],
     "prompt_number": 49
    },
    {
     "cell_type": "code",
     "collapsed": false,
     "input": [],
     "language": "python",
     "metadata": {},
     "outputs": []
    }
   ],
   "metadata": {}
  }
 ]
}