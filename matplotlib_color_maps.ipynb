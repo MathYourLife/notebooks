{
 "metadata": {
  "name": ""
 },
 "nbformat": 3,
 "nbformat_minor": 0,
 "worksheets": [
  {
   "cells": [
    {
     "cell_type": "code",
     "collapsed": false,
     "input": [
      "%pylab inline"
     ],
     "language": "python",
     "metadata": {},
     "outputs": [],
     "prompt_number": ""
    },
    {
     "cell_type": "code",
     "collapsed": false,
     "input": [
      "# source: http://wiki.scipy.org/Cookbook/Matplotlib/Show_colormaps\n",
      "\n",
      "from pylab import *\n",
      "from numpy import outer\n",
      "rc('text', usetex=False)\n",
      "a=outer(arange(0,1,0.01),ones(10))\n",
      "figure(figsize=(15,10))\n",
      "subplots_adjust(top=0.8,bottom=0.05,left=0.01,right=0.99)\n",
      "maps=[m for m in cm.datad if not m.endswith(\"_r\")]\n",
      "maps.sort()\n",
      "l=len(maps)+1\n",
      "for i, m in enumerate(maps):\n",
      "    subplot(1,l,i+1)\n",
      "    axis(\"off\")\n",
      "    imshow(a,aspect='auto',cmap=get_cmap(m),origin=\"lower\")\n",
      "    title(m,rotation=90,fontsize=10)\n",
      "\n",
      "show()"
     ],
     "language": "python",
     "metadata": {},
     "outputs": [],
     "prompt_number": ""
    }
   ],
   "metadata": {}
  }
 ]
}