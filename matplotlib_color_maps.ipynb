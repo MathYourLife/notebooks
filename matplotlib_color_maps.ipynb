{
 "metadata": {
  "name": ""
 },
 "nbformat": 3,
 "nbformat_minor": 0,
 "worksheets": [
  {
   "cells": [
    {
     "cell_type": "code",
     "collapsed": false,
     "input": [
      "%pylab inline"
     ],
     "language": "python",
     "metadata": {},
     "outputs": [],
     "prompt_number": ""
    },
    {
     "cell_type": "code",
     "collapsed": false,
     "input": [
      "# source: http://wiki.scipy.org/Cookbook/Matplotlib/Show_colormaps\n",
      "\n",
      "from pylab import *\n",
      "from numpy import outer\n",
      "rc('text', usetex=False)\n",
      "a=outer(ones(10),arange(0,1,0.01))\n",
      "figure(figsize=(5,100))\n",
      "subplots_adjust(top=0.8,bottom=0.05,left=0.01,right=0.99)\n",
      "maps=[m for m in cm.datad if not m.endswith(\"_r\")]\n",
      "maps.sort()\n",
      "l=len(maps)+1\n",
      "for i, m in enumerate(maps):\n",
      "    subplot(l,1,i+1)\n",
      "    axis(\"off\")\n",
      "    imshow(a,aspect='auto',cmap=get_cmap(m),origin=\"lower\")\n",
      "    title(m,fontsize=10)\n",
      "\n",
      "show()"
     ],
     "language": "python",
     "metadata": {},
     "outputs": [],
     "prompt_number": ""
    },
    {
     "cell_type": "code",
     "collapsed": false,
     "input": [],
     "language": "python",
     "metadata": {},
     "outputs": []
    }
   ],
   "metadata": {}
  }
 ]
}