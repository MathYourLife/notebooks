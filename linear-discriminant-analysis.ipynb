{
 "metadata": {
  "name": "",
  "signature": "sha256:ef0b22fd1844a7641f779072fdceb88db94a2740e78762d4b5b770c669a1eb85"
 },
 "nbformat": 3,
 "nbformat_minor": 0,
 "worksheets": [
  {
   "cells": [
    {
     "cell_type": "markdown",
     "metadata": {},
     "source": [
      "# Linear Discriminant Analysis\n",
      "\n",
      "Source: http://www.saedsayad.com/lda.htm (converted to python)\n",
      "\n",
      "Given a data set of customers containing the number of months in business and corresponding days delinquent, create a classifier that will find the best linear separation between the two groups."
     ]
    },
    {
     "cell_type": "code",
     "collapsed": false,
     "input": [
      "%matplotlib inline\n",
      "import matplotlib\n",
      "font = {\n",
      "    'weight' : 'normal',\n",
      "    'size'   : 16\n",
      "}\n",
      "matplotlib.rc('font', **font)\n",
      "\n",
      "import numpy as np\n",
      "from numpy.linalg import inv\n",
      "import matplotlib.pyplot as plt"
     ],
     "language": "python",
     "metadata": {},
     "outputs": [],
     "prompt_number": ""
    },
    {
     "cell_type": "markdown",
     "metadata": {},
     "source": [
      "## Original data set taken from\n",
      "\n",
      "http://www.saedsayad.com/datasets/credit_scoring_lda.xlsx\n",
      "\n",
      "Data set includes points (months in business, days delinquent) for 100 customers that ended up either defaulting or not."
     ]
    },
    {
     "cell_type": "code",
     "collapsed": false,
     "input": [
      "NO = np.array([\n",
      "  (87,2),(89,2),(90,2),(90,2),(101,2),(110,2),(115,2),(115,2),(115,2),(117,2),(127,2),(149,2),(150,2),(157,2),(166,2),(170,2),(183,2),(183,2),(190,2),(201,2),(202,2),(207,2),(212,2),(220,2),(310,2),(322,2),(399,2),(415,2),(326,3),(12,4),(12,4),(38,4),(200,4),(302,4),(30,5),(44,5),(131,5),(23,7),(152,7),(89,10),(24,12),(41,12),(151,14),(25,17),(48,18),(12,19),(267,20),(18,22),(43,25),(15,28),(60,28),(86,28),(12,29),(77,29),(38,30),(46,30),(64,30),(77,30),(132,30),(150,30),(12,31),(24,31),(12,32),(27,32),(36,34),(26,46),(26,46),(116,46),(88,53),(27,60),(84,60),(162,60),(277,60),(51,66),(12,11)\n",
      "])\n",
      "YES = np.array([\n",
      "  (100,26),(78,27),(61,48),(343,28),(24,49),(43,53),(417,13),(275,54),(42,57),(26,58),(42,59),(47,59),(170,59),(12,60),(49,62),(36,64),(48,65),(17,66),(85,69),(350,39),(207,70),(229,70),(65,72),(37,76),(73,80)\n",
      "])"
     ],
     "language": "python",
     "metadata": {},
     "outputs": [],
     "prompt_number": ""
    },
    {
     "cell_type": "markdown",
     "metadata": {},
     "source": [
      "## Calculate the covarience matrices along with the pooled covariance"
     ]
    },
    {
     "cell_type": "code",
     "collapsed": false,
     "input": [
      "C_no = np.cov(NO, rowvar=0)\n",
      "C_yes = np.cov(YES, rowvar=0)\n",
      "C = np.mat(1 / (len(NO) + len(YES)) * (len(NO) * C_no + len(YES) * C_yes))"
     ],
     "language": "python",
     "metadata": {},
     "outputs": [],
     "prompt_number": ""
    },
    {
     "cell_type": "markdown",
     "metadata": {},
     "source": [
      "## Calculate the centers for both the default and non default groups"
     ]
    },
    {
     "cell_type": "code",
     "collapsed": false,
     "input": [
      "u_no = np.mat(NO.mean(axis=0)).T\n",
      "u_yes = np.mat(YES.mean(axis=0)).T\n",
      "print(u_no)\n",
      "print(u_yes)"
     ],
     "language": "python",
     "metadata": {},
     "outputs": [],
     "prompt_number": ""
    },
    {
     "cell_type": "markdown",
     "metadata": {},
     "source": [
      "## Calculate the linear model's coefficients where\n",
      "\n",
      "$\\displaystyle \\beta = C^{-1} (\\mu_{no} - \\mu_{yes} ) $\n",
      "\n",
      "$\\displaystyle \\beta^T \\left( x - \\left( \\frac{\\mu_1 + \\mu_2}{2} \\right) \\right) $\n",
      "\n"
     ]
    },
    {
     "cell_type": "code",
     "collapsed": false,
     "input": [
      "B = inv(C) * (u_no - u_yes)\n",
      "B"
     ],
     "language": "python",
     "metadata": {},
     "outputs": [],
     "prompt_number": ""
    },
    {
     "cell_type": "markdown",
     "metadata": {},
     "source": [
      "## Based on the quantity generate the probabilities that a randomly selected sample case would default"
     ]
    },
    {
     "cell_type": "code",
     "collapsed": false,
     "input": [
      "p_no = len(NO) / (len(NO) + len(YES))\n",
      "p_yes = 1 - p_no\n",
      "print(\"P(not default) = %g\" % p_no)\n",
      "print(\"P(default) = %g\" % p_yes)"
     ],
     "language": "python",
     "metadata": {},
     "outputs": [],
     "prompt_number": ""
    },
    {
     "cell_type": "markdown",
     "metadata": {},
     "source": [
      "## Generate the functions that will test a data point and predict it's group"
     ]
    },
    {
     "cell_type": "code",
     "collapsed": false,
     "input": [
      "def make_vector(x):\n",
      "    X = np.mat(x)\n",
      "    if X.shape[1] > 1:\n",
      "        return X.T\n",
      "    return X\n",
      "\n",
      "def tester(b, u, p):\n",
      "    threshold = np.log10(p[0] / p[1])\n",
      "    \n",
      "    B = make_vector(b)\n",
      "    U1 = make_vector(u[0])\n",
      "    U2 = make_vector(u[1])\n",
      "    \n",
      "    def test_point(x):\n",
      "        X = make_vector(x)\n",
      "        if B.T * (X - 0.5 * (U1 + U2)) > threshold:\n",
      "            return 0\n",
      "        return 1\n",
      "\n",
      "    return test_point\n",
      "\n",
      "test_point = tester(B, (u_no, u_yes), (p_no, p_yes))"
     ],
     "language": "python",
     "metadata": {},
     "outputs": [],
     "prompt_number": ""
    },
    {
     "cell_type": "markdown",
     "metadata": {},
     "source": [
      "## Test the original data set\n",
      "\n",
      "Ideally this should be split into testing and validation groups, but this is for demonstration purposes."
     ]
    },
    {
     "cell_type": "code",
     "collapsed": false,
     "input": [
      "no_predict = []\n",
      "for x in NO:\n",
      "    no_predict.append(test_point(x))\n",
      "    \n",
      "yes_predict = []\n",
      "for x in YES:\n",
      "    yes_predict.append(test_point(x))\n"
     ],
     "language": "python",
     "metadata": {},
     "outputs": [],
     "prompt_number": ""
    },
    {
     "cell_type": "markdown",
     "metadata": {},
     "source": [
      "## Generate a decision boundary function useful for showing the separation between the two groups"
     ]
    },
    {
     "cell_type": "code",
     "collapsed": false,
     "input": [
      "def make_decision_boundary(B, u, p):\n",
      "    m = -B[0,0]/B[1,0]\n",
      "    print(\"slope: %g\" % m)\n",
      "    \n",
      "    cc = (u[0] + u[1]) / 2\n",
      "    print(\"center of centers (%g, %g)\" % (cc[0,0], cc[1,0]))\n",
      "    c = 1/B[1,0] * np.log10(p[0]/p[1]) + cc[0,0] * B[0,0] / B[1,0] + cc[1,0]\n",
      "    \n",
      "    print(\"intercept: %g\" % c)\n",
      "    def decision_boundary(x1):\n",
      "        return x1 * m + c\n",
      "    \n",
      "    return decision_boundary\n",
      "\n",
      "decision_boundary = make_decision_boundary(B, (u_no, u_yes), (p_no, p_yes))"
     ],
     "language": "python",
     "metadata": {},
     "outputs": [],
     "prompt_number": ""
    },
    {
     "cell_type": "markdown",
     "metadata": {},
     "source": [
      "## Plot the results of the classifier"
     ]
    },
    {
     "cell_type": "code",
     "collapsed": false,
     "input": [
      "def plot_classifier(NO, YES, centers, decision_boundary, predictions):\n",
      "    no_colors = 'br'\n",
      "    yes_colors = 'rb'\n",
      "\n",
      "    fig = plt.figure(figsize=(15, 8))\n",
      "    ax = fig.add_subplot(111)\n",
      "    plt_no = plt.scatter(NO[:,0],NO[:,1],color=[no_colors[i] for i in predictions[0]], \n",
      "                         marker='x', s=100)\n",
      "    plt_yes = plt.scatter(YES[:,0],YES[:,1],color=[yes_colors[i] for i in predictions[1]], \n",
      "                          marker='^', s=100)\n",
      "    no_center = plt.scatter(centers[0][0,0],centers[0][1,0],\n",
      "                            color='k', marker='x', s=200)\n",
      "    yes_center = plt.scatter(centers[1][0,0],centers[1][1,0],\n",
      "                             color='k', marker='^', s=200)\n",
      "    bx = np.linspace(0,450,10)\n",
      "    by = decision_boundary(bx)\n",
      "    boundary, = plt.plot(bx, by,color='k',ls='--')\n",
      "\n",
      "    plt.title(\"Predicted Default Status\\nblue=properly classified, red=incorrectly classified\")\n",
      "    plt.grid()\n",
      "    ax.set_xlim([0, 450])\n",
      "    ax.set_ylim([0, 90])\n",
      "    ax.legend([plt_no, plt_yes, no_center, yes_center, boundary], \n",
      "              [\"Did not default\", \"Defaulted\", \"No Center\", \"Yes Center\", \"Decision Boundary\"])\n",
      "    plt.show()\n",
      "\n",
      "plot_classifier(NO, YES, (u_no, u_yes), decision_boundary, (no_predict, yes_predict))"
     ],
     "language": "python",
     "metadata": {},
     "outputs": [],
     "prompt_number": ""
    },
    {
     "cell_type": "markdown",
     "metadata": {},
     "source": [
      "## Results\n",
      "\n",
      "* The dashed line is the calculated decision boundary\n",
      "* Triangle markers are cases that ended in a default\n",
      "* X markers are cases that ended in a non default\n",
      "* Blue markers signify correctly classified cases\n",
      "* Red markes signify incorrect classifications\n"
     ]
    },
    {
     "cell_type": "code",
     "collapsed": false,
     "input": [
      "print(\"%d cases correctly predicted a default\" % np.sum(np.array(yes_predict) == 1))\n",
      "print(\"%d cases defaulted when they weren't expected to\" % np.sum(np.array(yes_predict) == 0))\n",
      "print(\"%d cases correctly predicted to avoid a default\" % np.sum(np.array(no_predict) == 0))\n",
      "print(\"%d cases did not default when they were expected to\" % np.sum(np.array(no_predict) == 1))\n"
     ],
     "language": "python",
     "metadata": {},
     "outputs": [],
     "prompt_number": ""
    }
   ],
   "metadata": {}
  }
 ]
}